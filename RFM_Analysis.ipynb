{
 "cells": [
  {
   "cell_type": "markdown",
   "metadata": {},
   "source": [
    "### 1 - Customer Segmentation - RFM Analysis ###"
   ]
  },
  {
   "cell_type": "markdown",
   "metadata": {},
   "source": [
    "#### 1.1 - Data preparation - Loading and basic transformations ####"
   ]
  },
  {
   "cell_type": "code",
   "execution_count": 1,
   "metadata": {},
   "outputs": [],
   "source": [
    "# Import packages to data analysis\n",
    "\n",
    "import pandas as pd\n",
    "import numpy as np\n",
    "import matplotlib.pyplot as plt\n",
    "from sklearn.cluster import KMeans\n",
    "from datetime import datetime\n",
    "from scipy import stats\n",
    "from sklearn.preprocessing import StandardScaler\n",
    "import seaborn as sns\n",
    "from matplotlib.pyplot import figure"
   ]
  },
  {
   "cell_type": "code",
   "execution_count": 2,
   "metadata": {},
   "outputs": [
    {
     "name": "stderr",
     "output_type": "stream",
     "text": [
      "C:\\SalsaDocumentacao\\Python\\lib\\site-packages\\IPython\\core\\interactiveshell.py:3146: DtypeWarning: Columns (0) have mixed types.Specify dtype option on import or set low_memory=False.\n",
      "  has_raised = await self.run_ast_nodes(code_ast.body, cell_name,\n"
     ]
    },
    {
     "data": {
      "text/html": [
       "<div>\n",
       "<style scoped>\n",
       "    .dataframe tbody tr th:only-of-type {\n",
       "        vertical-align: middle;\n",
       "    }\n",
       "\n",
       "    .dataframe tbody tr th {\n",
       "        vertical-align: top;\n",
       "    }\n",
       "\n",
       "    .dataframe thead th {\n",
       "        text-align: right;\n",
       "    }\n",
       "</style>\n",
       "<table border=\"1\" class=\"dataframe\">\n",
       "  <thead>\n",
       "    <tr style=\"text-align: right;\">\n",
       "      <th></th>\n",
       "      <th>CodSalsaStar</th>\n",
       "      <th>Data</th>\n",
       "      <th>Fatura</th>\n",
       "      <th>Talao</th>\n",
       "      <th>EncomendaSAP</th>\n",
       "      <th>OrderRef</th>\n",
       "      <th>EncomendaSite</th>\n",
       "      <th>CodTipoDocumento</th>\n",
       "      <th>TipoDocumento</th>\n",
       "      <th>Loja</th>\n",
       "      <th>MercadoLoja</th>\n",
       "      <th>RefCorPerna</th>\n",
       "      <th>Material</th>\n",
       "      <th>Familia</th>\n",
       "      <th>Qtd</th>\n",
       "      <th>ValEfetivo</th>\n",
       "      <th>LojaOmnicanal</th>\n",
       "    </tr>\n",
       "  </thead>\n",
       "  <tbody>\n",
       "    <tr>\n",
       "      <th>0</th>\n",
       "      <td>100000000000217</td>\n",
       "      <td>20180106</td>\n",
       "      <td>6.001096e+09</td>\n",
       "      <td>101000122644</td>\n",
       "      <td>NaN</td>\n",
       "      <td>NaN</td>\n",
       "      <td>NaN</td>\n",
       "      <td>ZP06</td>\n",
       "      <td>Venda</td>\n",
       "      <td>2001 - SALSA NORTESHOPPING</td>\n",
       "      <td>PORTUGAL</td>\n",
       "      <td>1.184778e+09</td>\n",
       "      <td>EVEREST CASACO NYLO, MARINHO ORIGINAL, M</td>\n",
       "      <td>BLUSÕES E CASACOS</td>\n",
       "      <td>1.0</td>\n",
       "      <td>89.40</td>\n",
       "      <td>Não Definido</td>\n",
       "    </tr>\n",
       "    <tr>\n",
       "      <th>1</th>\n",
       "      <td>100000000000217</td>\n",
       "      <td>20180507</td>\n",
       "      <td>6.001295e+09</td>\n",
       "      <td>101000127094</td>\n",
       "      <td>NaN</td>\n",
       "      <td>NaN</td>\n",
       "      <td>NaN</td>\n",
       "      <td>ZP06</td>\n",
       "      <td>Venda</td>\n",
       "      <td>2001 - SALSA NORTESHOPPING</td>\n",
       "      <td>PORTUGAL</td>\n",
       "      <td>1.199409e+11</td>\n",
       "      <td>CLASH SKINNY 1ST RE, MEDIUM DARK, 30, 32</td>\n",
       "      <td>JEANS E CALÇAS</td>\n",
       "      <td>1.0</td>\n",
       "      <td>129.00</td>\n",
       "      <td>Não Definido</td>\n",
       "    </tr>\n",
       "    <tr>\n",
       "      <th>2</th>\n",
       "      <td>100000000000217</td>\n",
       "      <td>20180507</td>\n",
       "      <td>6.001295e+09</td>\n",
       "      <td>101000127094</td>\n",
       "      <td>NaN</td>\n",
       "      <td>NaN</td>\n",
       "      <td>NaN</td>\n",
       "      <td>ZP56</td>\n",
       "      <td>Venda</td>\n",
       "      <td>2001 - SALSA NORTESHOPPING</td>\n",
       "      <td>PORTUGAL</td>\n",
       "      <td>NaN</td>\n",
       "      <td>OFERTA OCULOS DE SOL</td>\n",
       "      <td>NaN</td>\n",
       "      <td>0.0</td>\n",
       "      <td>0.00</td>\n",
       "      <td>Não Definido</td>\n",
       "    </tr>\n",
       "    <tr>\n",
       "      <th>3</th>\n",
       "      <td>100000000000217</td>\n",
       "      <td>20180521</td>\n",
       "      <td>6.001316e+09</td>\n",
       "      <td>101000127818</td>\n",
       "      <td>NaN</td>\n",
       "      <td>NaN</td>\n",
       "      <td>NaN</td>\n",
       "      <td>ZP06</td>\n",
       "      <td>Venda</td>\n",
       "      <td>2001 - SALSA NORTESHOPPING</td>\n",
       "      <td>PORTUGAL</td>\n",
       "      <td>1.194148e+09</td>\n",
       "      <td>ITALY POLO ESTAMPADO AL, AZUL PARAÍSO, S</td>\n",
       "      <td>CAMISOLAS, T-SHIRTS, PÓLOS E TOPS</td>\n",
       "      <td>1.0</td>\n",
       "      <td>44.91</td>\n",
       "      <td>Não Definido</td>\n",
       "    </tr>\n",
       "    <tr>\n",
       "      <th>4</th>\n",
       "      <td>100000000000217</td>\n",
       "      <td>20181021</td>\n",
       "      <td>6.001625e+09</td>\n",
       "      <td>211000134331</td>\n",
       "      <td>NaN</td>\n",
       "      <td>NaN</td>\n",
       "      <td>NaN</td>\n",
       "      <td>ZP06</td>\n",
       "      <td>Venda</td>\n",
       "      <td>2012 - VILA DO CONDE PORTO FASHION OUTLET</td>\n",
       "      <td>PORTUGAL</td>\n",
       "      <td>1.181568e+09</td>\n",
       "      <td>VANCOUVER CAMISOLA, MARINHO ORIGINAL, M</td>\n",
       "      <td>CAMISOLAS E CASACOS TRICOTADOS</td>\n",
       "      <td>1.0</td>\n",
       "      <td>46.95</td>\n",
       "      <td>Não Definido</td>\n",
       "    </tr>\n",
       "  </tbody>\n",
       "</table>\n",
       "</div>"
      ],
      "text/plain": [
       "      CodSalsaStar      Data        Fatura         Talao  EncomendaSAP  \\\n",
       "0  100000000000217  20180106  6.001096e+09  101000122644           NaN   \n",
       "1  100000000000217  20180507  6.001295e+09  101000127094           NaN   \n",
       "2  100000000000217  20180507  6.001295e+09  101000127094           NaN   \n",
       "3  100000000000217  20180521  6.001316e+09  101000127818           NaN   \n",
       "4  100000000000217  20181021  6.001625e+09  211000134331           NaN   \n",
       "\n",
       "   OrderRef EncomendaSite CodTipoDocumento TipoDocumento  \\\n",
       "0       NaN           NaN             ZP06         Venda   \n",
       "1       NaN           NaN             ZP06         Venda   \n",
       "2       NaN           NaN             ZP56         Venda   \n",
       "3       NaN           NaN             ZP06         Venda   \n",
       "4       NaN           NaN             ZP06         Venda   \n",
       "\n",
       "                                        Loja MercadoLoja   RefCorPerna  \\\n",
       "0                 2001 - SALSA NORTESHOPPING    PORTUGAL  1.184778e+09   \n",
       "1                 2001 - SALSA NORTESHOPPING    PORTUGAL  1.199409e+11   \n",
       "2                 2001 - SALSA NORTESHOPPING    PORTUGAL           NaN   \n",
       "3                 2001 - SALSA NORTESHOPPING    PORTUGAL  1.194148e+09   \n",
       "4  2012 - VILA DO CONDE PORTO FASHION OUTLET    PORTUGAL  1.181568e+09   \n",
       "\n",
       "                                   Material  \\\n",
       "0  EVEREST CASACO NYLO, MARINHO ORIGINAL, M   \n",
       "1  CLASH SKINNY 1ST RE, MEDIUM DARK, 30, 32   \n",
       "2                      OFERTA OCULOS DE SOL   \n",
       "3  ITALY POLO ESTAMPADO AL, AZUL PARAÍSO, S   \n",
       "4   VANCOUVER CAMISOLA, MARINHO ORIGINAL, M   \n",
       "\n",
       "                             Familia  Qtd  ValEfetivo  LojaOmnicanal  \n",
       "0                  BLUSÕES E CASACOS  1.0       89.40   Não Definido  \n",
       "1                     JEANS E CALÇAS  1.0      129.00   Não Definido  \n",
       "2                                NaN  0.0        0.00   Não Definido  \n",
       "3  CAMISOLAS, T-SHIRTS, PÓLOS E TOPS  1.0       44.91   Não Definido  \n",
       "4     CAMISOLAS E CASACOS TRICOTADOS  1.0       46.95   Não Definido  "
      ]
     },
     "execution_count": 2,
     "metadata": {},
     "output_type": "execute_result"
    }
   ],
   "source": [
    "# Import data to analyse\n",
    "\n",
    "df = pd.read_csv(\"purchases.csv\", sep=';')\n",
    "df.head()"
   ]
  },
  {
   "cell_type": "code",
   "execution_count": 4,
   "metadata": {},
   "outputs": [
    {
     "name": "stdout",
     "output_type": "stream",
     "text": [
      "1045386    Venda\n",
      "728614     Venda\n",
      "1335578    Venda\n",
      "930976     Venda\n",
      "613630     Venda\n",
      "           ...  \n",
      "519158     Venda\n",
      "1077638    Venda\n",
      "719531     Venda\n",
      "1387961    Venda\n",
      "1112460    Venda\n",
      "Name: TipoDocumento, Length: 444097, dtype: object\n"
     ]
    }
   ],
   "source": [
    "# Sample the dataset (to perform better and quick anlalysis)\n",
    "\n",
    "df_sample = df.sample(500000, random_state = 42)\n",
    "df_sample = df_sample[df_sample[\"TipoDocumento\"] == \"Venda\"]\n",
    "print(df_sample[\"TipoDocumento\"])"
   ]
  },
  {
   "cell_type": "code",
   "execution_count": 5,
   "metadata": {},
   "outputs": [
    {
     "data": {
      "text/plain": [
       "1045386   2020-07-14\n",
       "728614    2019-03-09\n",
       "1335578   2019-03-30\n",
       "930976    2020-11-29\n",
       "613630    2018-06-16\n",
       "             ...    \n",
       "519158    2018-09-24\n",
       "1077638   2019-01-13\n",
       "719531    2018-08-14\n",
       "1387961   2018-08-14\n",
       "1112460   2019-05-15\n",
       "Name: Data, Length: 444097, dtype: datetime64[ns]"
      ]
     },
     "execution_count": 5,
     "metadata": {},
     "output_type": "execute_result"
    }
   ],
   "source": [
    "# Create the RFM table \n",
    "# Dealing with purchase date\n",
    "\n",
    "df_sample[\"Data\"] = df_sample['Data'].apply(lambda x: pd.to_datetime(str(x), format='%Y%m%d'))\n",
    "df_sample[\"Data\"]"
   ]
  },
  {
   "cell_type": "code",
   "execution_count": 6,
   "metadata": {},
   "outputs": [
    {
     "data": {
      "text/plain": [
       "1045386    17.57\n",
       "728614     29.95\n",
       "1335578    39.95\n",
       "930976     63.96\n",
       "613630     14.90\n",
       "           ...  \n",
       "519158     18.13\n",
       "1077638    77.86\n",
       "719531      9.95\n",
       "1387961    39.38\n",
       "1112460    35.26\n",
       "Name: TotalSum, Length: 444097, dtype: float64"
      ]
     },
     "execution_count": 6,
     "metadata": {},
     "output_type": "execute_result"
    }
   ],
   "source": [
    "# Create TotalSum colummn\n",
    "df_sample[\"TotalSum\"] = df_sample[\"Qtd\"] * df_sample[\"ValEfetivo\"]\n",
    "df_sample[\"TotalSum\"]"
   ]
  },
  {
   "cell_type": "code",
   "execution_count": 7,
   "metadata": {},
   "outputs": [
    {
     "data": {
      "text/plain": [
       "Timestamp('2021-04-01 00:00:00')"
      ]
     },
     "execution_count": 7,
     "metadata": {},
     "output_type": "execute_result"
    }
   ],
   "source": [
    "# Create date variable that records recency\n",
    "import datetime\n",
    "snapshot_date = max(df_sample.Data) + datetime.timedelta(days=1)\n",
    "snapshot_date"
   ]
  },
  {
   "cell_type": "code",
   "execution_count": 8,
   "metadata": {},
   "outputs": [
    {
     "data": {
      "text/plain": [
       "Timestamp('2021-04-01 00:00:00')"
      ]
     },
     "execution_count": 8,
     "metadata": {},
     "output_type": "execute_result"
    }
   ],
   "source": [
    "max(df_sample.Data) + datetime.timedelta(days=1)"
   ]
  },
  {
   "cell_type": "code",
   "execution_count": 9,
   "metadata": {},
   "outputs": [],
   "source": [
    "# Aggregate data by each customer\n",
    "customers = df_sample.groupby(['CodSalsaStar']).agg({\n",
    "    'Data': lambda x: (snapshot_date - x.max()).days,\n",
    "    'Talao': 'count',\n",
    "    'TotalSum': 'sum'})"
   ]
  },
  {
   "cell_type": "code",
   "execution_count": 10,
   "metadata": {},
   "outputs": [],
   "source": [
    "# Rename columns\n",
    "customers.rename(columns = {'Data': 'Recency',\n",
    "                            'Talao': 'Frequency',\n",
    "                            'TotalSum': 'MonetaryValue'}, inplace=True)"
   ]
  },
  {
   "cell_type": "code",
   "execution_count": 11,
   "metadata": {},
   "outputs": [],
   "source": [
    "customers = customers[customers[\"MonetaryValue\"] < 150]"
   ]
  },
  {
   "cell_type": "code",
   "execution_count": 12,
   "metadata": {},
   "outputs": [
    {
     "name": "stdout",
     "output_type": "stream",
     "text": [
      "               Recency  Frequency  MonetaryValue\n",
      "CodSalsaStar                                    \n",
      "100014             748          1     142.870000\n",
      "100024             852          4     105.975065\n",
      "400035            1090          1      79.900000\n",
      "400074             860          2     121.830000\n",
      "400127             628          2      64.900000\n",
      "...                ...        ...            ...\n",
      "WD00000357363      113          1     144.040000\n",
      "WD00000367473     1020          2      72.280000\n",
      "WRK0000003471     1183          1      12.930000\n",
      "WRK0000011397     1186          0      19.990000\n",
      "WRK0000012523     1114          1      21.540000\n",
      "\n",
      "[23723 rows x 3 columns]\n"
     ]
    }
   ],
   "source": [
    "print(customers)"
   ]
  },
  {
   "cell_type": "code",
   "execution_count": 13,
   "metadata": {},
   "outputs": [
    {
     "name": "stdout",
     "output_type": "stream",
     "text": [
      "               Recency  Frequency  MonetaryValue\n",
      "CodSalsaStar                                    \n",
      "100014             748          1            142\n",
      "100024             852          4            105\n",
      "400035            1090          1             79\n",
      "400074             860          2            121\n",
      "400127             628          2             64\n",
      "...                ...        ...            ...\n",
      "WD00000357363      113          1            144\n",
      "WD00000367473     1020          2             72\n",
      "WRK0000003471     1183          1             12\n",
      "WRK0000011397     1186          0             19\n",
      "WRK0000012523     1114          1             21\n",
      "\n",
      "[23723 rows x 3 columns]\n"
     ]
    }
   ],
   "source": [
    "customers['MonetaryValue'] = customers['MonetaryValue'].astype(np.int64)\n",
    "print(customers)"
   ]
  },
  {
   "cell_type": "code",
   "execution_count": 14,
   "metadata": {},
   "outputs": [
    {
     "data": {
      "text/html": [
       "<div>\n",
       "<style scoped>\n",
       "    .dataframe tbody tr th:only-of-type {\n",
       "        vertical-align: middle;\n",
       "    }\n",
       "\n",
       "    .dataframe tbody tr th {\n",
       "        vertical-align: top;\n",
       "    }\n",
       "\n",
       "    .dataframe thead th {\n",
       "        text-align: right;\n",
       "    }\n",
       "</style>\n",
       "<table border=\"1\" class=\"dataframe\">\n",
       "  <thead>\n",
       "    <tr style=\"text-align: right;\">\n",
       "      <th></th>\n",
       "      <th>CodSalsaStar</th>\n",
       "      <th>Data</th>\n",
       "      <th>Fatura</th>\n",
       "      <th>Talao</th>\n",
       "      <th>EncomendaSAP</th>\n",
       "      <th>OrderRef</th>\n",
       "      <th>EncomendaSite</th>\n",
       "      <th>CodTipoDocumento</th>\n",
       "      <th>TipoDocumento</th>\n",
       "      <th>Loja</th>\n",
       "      <th>MercadoLoja</th>\n",
       "      <th>RefCorPerna</th>\n",
       "      <th>Material</th>\n",
       "      <th>Familia</th>\n",
       "      <th>Qtd</th>\n",
       "      <th>ValEfetivo</th>\n",
       "      <th>LojaOmnicanal</th>\n",
       "      <th>TotalSum</th>\n",
       "    </tr>\n",
       "  </thead>\n",
       "  <tbody>\n",
       "    <tr>\n",
       "      <th>24037</th>\n",
       "      <td>200104</td>\n",
       "      <td>2019-01-03</td>\n",
       "      <td>6.001846e+09</td>\n",
       "      <td>1911000033794</td>\n",
       "      <td>NaN</td>\n",
       "      <td>NaN</td>\n",
       "      <td>NaN</td>\n",
       "      <td>ZP06</td>\n",
       "      <td>Venda</td>\n",
       "      <td>2044 - SALSA CHIADO</td>\n",
       "      <td>PORTUGAL</td>\n",
       "      <td>1.204798e+09</td>\n",
       "      <td>DENMARK CAMISA XADREZ R, AZUL INTENSO, L</td>\n",
       "      <td>CAMISAS E TÚNICAS</td>\n",
       "      <td>0.024311</td>\n",
       "      <td>0.97</td>\n",
       "      <td>Não Definido</td>\n",
       "      <td>0.023582</td>\n",
       "    </tr>\n",
       "    <tr>\n",
       "      <th>24044</th>\n",
       "      <td>200104</td>\n",
       "      <td>2020-12-07</td>\n",
       "      <td>6.700421e+09</td>\n",
       "      <td>111000129794</td>\n",
       "      <td>NaN</td>\n",
       "      <td>NaN</td>\n",
       "      <td>NaN</td>\n",
       "      <td>ZP06</td>\n",
       "      <td>Venda</td>\n",
       "      <td>2002 - SALSA VASCO DA GAMA</td>\n",
       "      <td>PORTUGAL</td>\n",
       "      <td>1.201699e+11</td>\n",
       "      <td>WONDER PUSH UP CAPRI PREMI, DARK, 30, 30</td>\n",
       "      <td>JEANS E CALÇAS</td>\n",
       "      <td>1.000000</td>\n",
       "      <td>89.90</td>\n",
       "      <td>Não Definido</td>\n",
       "      <td>89.900000</td>\n",
       "    </tr>\n",
       "    <tr>\n",
       "      <th>24036</th>\n",
       "      <td>200104</td>\n",
       "      <td>2019-01-03</td>\n",
       "      <td>6.001846e+09</td>\n",
       "      <td>1911000033793</td>\n",
       "      <td>NaN</td>\n",
       "      <td>NaN</td>\n",
       "      <td>NaN</td>\n",
       "      <td>ZP06</td>\n",
       "      <td>Venda</td>\n",
       "      <td>2044 - SALSA CHIADO</td>\n",
       "      <td>PORTUGAL</td>\n",
       "      <td>1.201699e+11</td>\n",
       "      <td>WONDER PUSH UP CAPRI PREMI, DARK, 29, 30</td>\n",
       "      <td>JEANS E CALÇAS</td>\n",
       "      <td>1.000000</td>\n",
       "      <td>71.92</td>\n",
       "      <td>Não Definido</td>\n",
       "      <td>71.920000</td>\n",
       "    </tr>\n",
       "    <tr>\n",
       "      <th>24035</th>\n",
       "      <td>200104</td>\n",
       "      <td>2019-01-03</td>\n",
       "      <td>6.001845e+09</td>\n",
       "      <td>1911000033792</td>\n",
       "      <td>NaN</td>\n",
       "      <td>NaN</td>\n",
       "      <td>NaN</td>\n",
       "      <td>ZP06</td>\n",
       "      <td>Venda</td>\n",
       "      <td>2044 - SALSA CHIADO</td>\n",
       "      <td>PORTUGAL</td>\n",
       "      <td>NaN</td>\n",
       "      <td>VALE ONLINE</td>\n",
       "      <td>NaN</td>\n",
       "      <td>1.000000</td>\n",
       "      <td>62.95</td>\n",
       "      <td>2044 - SALSA CHIADO</td>\n",
       "      <td>62.950000</td>\n",
       "    </tr>\n",
       "    <tr>\n",
       "      <th>24045</th>\n",
       "      <td>200104</td>\n",
       "      <td>2020-12-07</td>\n",
       "      <td>6.700421e+09</td>\n",
       "      <td>111000129794</td>\n",
       "      <td>NaN</td>\n",
       "      <td>NaN</td>\n",
       "      <td>NaN</td>\n",
       "      <td>ZP06</td>\n",
       "      <td>Venda</td>\n",
       "      <td>2002 - SALSA VASCO DA GAMA</td>\n",
       "      <td>PORTUGAL</td>\n",
       "      <td>1.219949e+11</td>\n",
       "      <td>WONDER CAPRI, MEDDIUM LIGHT, 29, 30</td>\n",
       "      <td>JEANS E CALÇAS</td>\n",
       "      <td>1.000000</td>\n",
       "      <td>79.95</td>\n",
       "      <td>Não Definido</td>\n",
       "      <td>79.950000</td>\n",
       "    </tr>\n",
       "  </tbody>\n",
       "</table>\n",
       "</div>"
      ],
      "text/plain": [
       "      CodSalsaStar       Data        Fatura          Talao  EncomendaSAP  \\\n",
       "24037       200104 2019-01-03  6.001846e+09  1911000033794           NaN   \n",
       "24044       200104 2020-12-07  6.700421e+09   111000129794           NaN   \n",
       "24036       200104 2019-01-03  6.001846e+09  1911000033793           NaN   \n",
       "24035       200104 2019-01-03  6.001845e+09  1911000033792           NaN   \n",
       "24045       200104 2020-12-07  6.700421e+09   111000129794           NaN   \n",
       "\n",
       "       OrderRef EncomendaSite CodTipoDocumento TipoDocumento  \\\n",
       "24037       NaN           NaN             ZP06         Venda   \n",
       "24044       NaN           NaN             ZP06         Venda   \n",
       "24036       NaN           NaN             ZP06         Venda   \n",
       "24035       NaN           NaN             ZP06         Venda   \n",
       "24045       NaN           NaN             ZP06         Venda   \n",
       "\n",
       "                             Loja MercadoLoja   RefCorPerna  \\\n",
       "24037         2044 - SALSA CHIADO    PORTUGAL  1.204798e+09   \n",
       "24044  2002 - SALSA VASCO DA GAMA    PORTUGAL  1.201699e+11   \n",
       "24036         2044 - SALSA CHIADO    PORTUGAL  1.201699e+11   \n",
       "24035         2044 - SALSA CHIADO    PORTUGAL           NaN   \n",
       "24045  2002 - SALSA VASCO DA GAMA    PORTUGAL  1.219949e+11   \n",
       "\n",
       "                                       Material            Familia       Qtd  \\\n",
       "24037  DENMARK CAMISA XADREZ R, AZUL INTENSO, L  CAMISAS E TÚNICAS  0.024311   \n",
       "24044  WONDER PUSH UP CAPRI PREMI, DARK, 30, 30     JEANS E CALÇAS  1.000000   \n",
       "24036  WONDER PUSH UP CAPRI PREMI, DARK, 29, 30     JEANS E CALÇAS  1.000000   \n",
       "24035                               VALE ONLINE                NaN  1.000000   \n",
       "24045       WONDER CAPRI, MEDDIUM LIGHT, 29, 30     JEANS E CALÇAS  1.000000   \n",
       "\n",
       "       ValEfetivo        LojaOmnicanal   TotalSum  \n",
       "24037        0.97         Não Definido   0.023582  \n",
       "24044       89.90         Não Definido  89.900000  \n",
       "24036       71.92         Não Definido  71.920000  \n",
       "24035       62.95  2044 - SALSA CHIADO  62.950000  \n",
       "24045       79.95         Não Definido  79.950000  "
      ]
     },
     "execution_count": 14,
     "metadata": {},
     "output_type": "execute_result"
    }
   ],
   "source": [
    "# Example of data validation: CustomerID -> 200104\n",
    "df_sample[df_sample[\"CodSalsaStar\"] == 200104]"
   ]
  },
  {
   "cell_type": "code",
   "execution_count": 15,
   "metadata": {},
   "outputs": [
    {
     "data": {
      "text/html": [
       "<div>\n",
       "<style scoped>\n",
       "    .dataframe tbody tr th:only-of-type {\n",
       "        vertical-align: middle;\n",
       "    }\n",
       "\n",
       "    .dataframe tbody tr th {\n",
       "        vertical-align: top;\n",
       "    }\n",
       "\n",
       "    .dataframe thead th {\n",
       "        text-align: right;\n",
       "    }\n",
       "</style>\n",
       "<table border=\"1\" class=\"dataframe\">\n",
       "  <thead>\n",
       "    <tr style=\"text-align: right;\">\n",
       "      <th></th>\n",
       "      <th>Recency</th>\n",
       "      <th>Frequency</th>\n",
       "      <th>MonetaryValue</th>\n",
       "    </tr>\n",
       "    <tr>\n",
       "      <th>CodSalsaStar</th>\n",
       "      <th></th>\n",
       "      <th></th>\n",
       "      <th></th>\n",
       "    </tr>\n",
       "  </thead>\n",
       "  <tbody>\n",
       "    <tr>\n",
       "      <th>100014</th>\n",
       "      <td>748</td>\n",
       "      <td>1</td>\n",
       "      <td>142</td>\n",
       "    </tr>\n",
       "    <tr>\n",
       "      <th>100024</th>\n",
       "      <td>852</td>\n",
       "      <td>4</td>\n",
       "      <td>105</td>\n",
       "    </tr>\n",
       "    <tr>\n",
       "      <th>400035</th>\n",
       "      <td>1090</td>\n",
       "      <td>1</td>\n",
       "      <td>79</td>\n",
       "    </tr>\n",
       "    <tr>\n",
       "      <th>400074</th>\n",
       "      <td>860</td>\n",
       "      <td>2</td>\n",
       "      <td>121</td>\n",
       "    </tr>\n",
       "    <tr>\n",
       "      <th>400127</th>\n",
       "      <td>628</td>\n",
       "      <td>2</td>\n",
       "      <td>64</td>\n",
       "    </tr>\n",
       "    <tr>\n",
       "      <th>...</th>\n",
       "      <td>...</td>\n",
       "      <td>...</td>\n",
       "      <td>...</td>\n",
       "    </tr>\n",
       "    <tr>\n",
       "      <th>WD00000357363</th>\n",
       "      <td>113</td>\n",
       "      <td>1</td>\n",
       "      <td>144</td>\n",
       "    </tr>\n",
       "    <tr>\n",
       "      <th>WD00000367473</th>\n",
       "      <td>1020</td>\n",
       "      <td>2</td>\n",
       "      <td>72</td>\n",
       "    </tr>\n",
       "    <tr>\n",
       "      <th>WRK0000003471</th>\n",
       "      <td>1183</td>\n",
       "      <td>1</td>\n",
       "      <td>12</td>\n",
       "    </tr>\n",
       "    <tr>\n",
       "      <th>WRK0000011397</th>\n",
       "      <td>1186</td>\n",
       "      <td>0</td>\n",
       "      <td>19</td>\n",
       "    </tr>\n",
       "    <tr>\n",
       "      <th>WRK0000012523</th>\n",
       "      <td>1114</td>\n",
       "      <td>1</td>\n",
       "      <td>21</td>\n",
       "    </tr>\n",
       "  </tbody>\n",
       "</table>\n",
       "<p>23723 rows × 3 columns</p>\n",
       "</div>"
      ],
      "text/plain": [
       "               Recency  Frequency  MonetaryValue\n",
       "CodSalsaStar                                    \n",
       "100014             748          1            142\n",
       "100024             852          4            105\n",
       "400035            1090          1             79\n",
       "400074             860          2            121\n",
       "400127             628          2             64\n",
       "...                ...        ...            ...\n",
       "WD00000357363      113          1            144\n",
       "WD00000367473     1020          2             72\n",
       "WRK0000003471     1183          1             12\n",
       "WRK0000011397     1186          0             19\n",
       "WRK0000012523     1114          1             21\n",
       "\n",
       "[23723 rows x 3 columns]"
      ]
     },
     "execution_count": 15,
     "metadata": {},
     "output_type": "execute_result"
    }
   ],
   "source": [
    "# Print Table\n",
    "customers"
   ]
  },
  {
   "cell_type": "markdown",
   "metadata": {},
   "source": [
    "#### 1.2 - Data preparation - Some advanced transformations ####"
   ]
  },
  {
   "cell_type": "markdown",
   "metadata": {},
   "source": [
    "##### 1.2.1 - Skewness #####"
   ]
  },
  {
   "cell_type": "code",
   "execution_count": 16,
   "metadata": {},
   "outputs": [
    {
     "data": {
      "image/png": "[encoded data removed]",
      "text/plain": [
       "<Figure size 1440x720 with 4 Axes>"
      ]
     },
     "metadata": {
      "needs_background": "light"
     },
     "output_type": "display_data"
    },
    {
     "name": "stdout",
     "output_type": "stream",
     "text": [
      "Recency: -0.7098918290672458\n",
      "Frequency: 1.4690093037182326\n",
      "MonetaryValue: 0.07368705349727304\n"
     ]
    }
   ],
   "source": [
    "# Before modelation we have to certified that that variables are good for the model\n",
    "# Check skewness\n",
    "variables = [\"Recency\", \"Frequency\", \"MonetaryValue\"]\n",
    "customers[variables].hist(bins=15, figsize=(20, 10))\n",
    "plt.show()\n",
    "print(\"Recency: \" + str(customers.Recency.skew()) + \"\\n\"\n",
    "      \"Frequency: \" + str(customers.Frequency.skew()) + \"\\n\"\n",
    "      \"MonetaryValue: \" + str(customers.MonetaryValue.skew()))"
   ]
  },
  {
   "cell_type": "code",
   "execution_count": 17,
   "metadata": {},
   "outputs": [
    {
     "name": "stdout",
     "output_type": "stream",
     "text": [
      "Recency|log: -2.8545190063691743\n",
      "Recency|sqrt: -1.3609343614359308\n",
      "Frequency|log: nan\n",
      "Frequency|sqrt: -0.3944782887264434\n",
      "MonetaryValue|log: nan\n",
      "MonetaryValue|sqrt: -0.7224883569758482\n"
     ]
    },
    {
     "name": "stderr",
     "output_type": "stream",
     "text": [
      "C:\\SalsaDocumentacao\\Python\\lib\\site-packages\\pandas\\core\\series.py:726: RuntimeWarning: divide by zero encountered in log\n",
      "  result = getattr(ufunc, method)(*inputs, **kwargs)\n"
     ]
    }
   ],
   "source": [
    "# Dealing skewness -> Log transformation vs sqrt\n",
    "##Recency\n",
    "log = np.log(customers[\"Recency\"])\n",
    "print(\"Recency|log: \" + str(log.skew()))\n",
    "\n",
    "sqrt = np.sqrt(customers['Recency'])\n",
    "print(\"Recency|sqrt: \" + str(sqrt.skew()))\n",
    "\n",
    "#Frequency\n",
    "log2 = np.log(customers[\"Frequency\"])\n",
    "print(\"Frequency|log: \" + str(log2.skew()))\n",
    "\n",
    "sqrt2 = np.sqrt(customers['Frequency'])\n",
    "print(\"Frequency|sqrt: \" + str(sqrt2.skew()))\n",
    "\n",
    "#MonetaryValue\n",
    "log3 = np.log(customers[\"MonetaryValue\"])\n",
    "print(\"MonetaryValue|log: \" + str(log3.skew()))\n",
    "\n",
    "sqrt3 = np.sqrt(customers['MonetaryValue'])\n",
    "print(\"MonetaryValue|sqrt: \" + str(sqrt3.skew()))\n",
    "\n",
    "# choose sqrt because has better results than log and than normal skewness"
   ]
  },
  {
   "cell_type": "code",
   "execution_count": 18,
   "metadata": {},
   "outputs": [
    {
     "name": "stdout",
     "output_type": "stream",
     "text": [
      "                 Recency  Frequency  MonetaryValue\n",
      "CodSalsaStar                                      \n",
      "100014         27.349589   1.000000      11.916375\n",
      "100024         29.189039   2.000000      10.246951\n",
      "400035         33.015148   1.000000       8.888194\n",
      "400074         29.325757   1.414214      11.000000\n",
      "400127         25.059928   1.414214       8.000000\n",
      "...                  ...        ...            ...\n",
      "WD00000357363  10.630146   1.000000      12.000000\n",
      "WD00000367473  31.937439   1.414214       8.485281\n",
      "WRK0000003471  34.394767   1.000000       3.464102\n",
      "WRK0000011397  34.438351   0.000000       4.358899\n",
      "WRK0000012523  33.376639   1.000000       4.582576\n",
      "\n",
      "[23723 rows x 3 columns]\n"
     ]
    },
    {
     "data": {
      "image/png": "[encoded data removed]",
      "text/plain": [
       "<Figure size 1440x720 with 4 Axes>"
      ]
     },
     "metadata": {
      "needs_background": "light"
     },
     "output_type": "display_data"
    },
    {
     "name": "stdout",
     "output_type": "stream",
     "text": [
      "Recency: -1.3609343614359308\n",
      "Frequency: -0.3944782887264434\n",
      "MonetaryValue: -0.7224883569758482\n"
     ]
    }
   ],
   "source": [
    "# Give values to the variables\n",
    "customers[\"Recency\"] = np.sqrt(customers['Recency'])\n",
    "customers[\"Frequency\"] = np.sqrt(customers['Frequency'])\n",
    "customers[\"MonetaryValue\"] = np.sqrt(customers['MonetaryValue'])\n",
    "\n",
    "# Print New Table\n",
    "print(customers)\n",
    "\n",
    "# Check skewness\n",
    "variables = [\"Recency\", \"Frequency\", \"MonetaryValue\"]\n",
    "customers[variables].hist(bins=15, figsize=(20, 10))\n",
    "plt.show()\n",
    "print(\"Recency: \" + str(customers.Recency.skew()) + \"\\n\"\n",
    "      \"Frequency: \" + str(customers.Frequency.skew()) + \"\\n\"\n",
    "      \"MonetaryValue: \" + str(customers.MonetaryValue.skew()))"
   ]
  },
  {
   "cell_type": "code",
   "execution_count": 86,
   "metadata": {},
   "outputs": [],
   "source": [
    "#customers = customers[customers[\"MonetaryValue\"] < 100]"
   ]
  },
  {
   "cell_type": "markdown",
   "metadata": {},
   "source": [
    "##### 1.2.2 - Normalization #####"
   ]
  },
  {
   "cell_type": "code",
   "execution_count": 19,
   "metadata": {},
   "outputs": [
    {
     "name": "stdout",
     "output_type": "stream",
     "text": [
      "[-0. -0. -0.]\n",
      "[1. 1. 1.]\n"
     ]
    }
   ],
   "source": [
    "# Normalization is required in order to have its variables with mean 0 and variance 1\n",
    "# Initialize the Object\n",
    "scaler = StandardScaler()\n",
    "\n",
    "# Fit and Transform The Data\n",
    "scaler.fit(customers)\n",
    "customers_normalized = scaler.transform(customers)\n",
    "\n",
    "# Array to dataframe\n",
    "customers_normalized_frame = pd.DataFrame(customers_normalized)\n",
    "#customers_normalized_frame\n",
    "print(customers_normalized.mean(axis = 0).round(2)) # [0. -0. 0.]\n",
    "print(customers_normalized.std(axis = 0).round(2)) # [1. 1. 1.]"
   ]
  },
  {
   "cell_type": "markdown",
   "metadata": {},
   "source": [
    "#### 1.3 - Data Modelation - K Means Alghorithm ####"
   ]
  },
  {
   "cell_type": "code",
   "execution_count": 81,
   "metadata": {},
   "outputs": [],
   "source": [
    "# \"K-Means algorithm is an unsupervised learning algorithm that uses the geometrical \n",
    "# principle to determine which cluster belongs to the data. By determine each centroid, \n",
    "# we calculate the distance to each centroid. Each data belongs to a centroid if it has\n",
    "# the smallest distance from the other. It repeats until the next total of the distance \n",
    "# doesn’t have significant changes than before.\""
   ]
  },
  {
   "cell_type": "code",
   "execution_count": 20,
   "metadata": {},
   "outputs": [
    {
     "data": {
      "image/png": "[encoded data removed]",
      "text/plain": [
       "<Figure size 432x288 with 1 Axes>"
      ]
     },
     "metadata": {
      "needs_background": "light"
     },
     "output_type": "display_data"
    },
    {
     "data": {
      "text/plain": [
       "<Figure size 2400x800 with 0 Axes>"
      ]
     },
     "metadata": {},
     "output_type": "display_data"
    }
   ],
   "source": [
    "# Elbow Method is known to let people to know how muck clusters its needed\n",
    "\n",
    "# \"To make our clustering reach its maximum performance, we have to determine which hyperparameter\n",
    "# fits to the data. To determine which hyperparameter is the best for our model and data\n",
    "# , we can use the elbow method to decide.\"\n",
    "sse = {}\n",
    "for k in range(1, 10):\n",
    "    kmeans = KMeans(n_clusters=k, random_state=42)\n",
    "    kmeans.fit(customers_normalized)\n",
    "    sse[k] = kmeans.inertia_ # SSE to closest cluster centroid\n",
    "plt.title('The Elbow Method')\n",
    "plt.xlabel('k')\n",
    "plt.ylabel('SSE')\n",
    "sns.pointplot(x=list(sse.keys()), y=list(sse.values()))\n",
    "figure(figsize=(30, 10), dpi=80)\n",
    "plt.show()\n",
    "\n",
    "# o elbow is the 4 (4 clusters needed)!"
   ]
  },
  {
   "cell_type": "code",
   "execution_count": 21,
   "metadata": {},
   "outputs": [
    {
     "data": {
      "text/plain": [
       "KMeans(n_clusters=4, random_state=42)"
      ]
     },
     "execution_count": 21,
     "metadata": {},
     "output_type": "execute_result"
    }
   ],
   "source": [
    "# Having the clusters number defined, now we have to fit the model\n",
    "\n",
    "model = KMeans(n_clusters=4, random_state=42)\n",
    "model.fit(customers_normalized)"
   ]
  },
  {
   "cell_type": "code",
   "execution_count": 22,
   "metadata": {},
   "outputs": [
    {
     "data": {
      "text/html": [
       "<div>\n",
       "<style scoped>\n",
       "    .dataframe tbody tr th:only-of-type {\n",
       "        vertical-align: middle;\n",
       "    }\n",
       "\n",
       "    .dataframe tbody tr th {\n",
       "        vertical-align: top;\n",
       "    }\n",
       "\n",
       "    .dataframe thead th {\n",
       "        text-align: right;\n",
       "    }\n",
       "</style>\n",
       "<table border=\"1\" class=\"dataframe\">\n",
       "  <thead>\n",
       "    <tr style=\"text-align: right;\">\n",
       "      <th></th>\n",
       "      <th>Recency</th>\n",
       "      <th>Frequency</th>\n",
       "      <th>MonetaryValue</th>\n",
       "      <th>ID</th>\n",
       "    </tr>\n",
       "  </thead>\n",
       "  <tbody>\n",
       "    <tr>\n",
       "      <th>0</th>\n",
       "      <td>0.134601</td>\n",
       "      <td>-0.315049</td>\n",
       "      <td>1.404571</td>\n",
       "      <td>100014</td>\n",
       "    </tr>\n",
       "    <tr>\n",
       "      <th>1</th>\n",
       "      <td>0.429338</td>\n",
       "      <td>1.433294</td>\n",
       "      <td>0.741066</td>\n",
       "      <td>100024</td>\n",
       "    </tr>\n",
       "    <tr>\n",
       "      <th>2</th>\n",
       "      <td>1.042400</td>\n",
       "      <td>-0.315049</td>\n",
       "      <td>0.201034</td>\n",
       "      <td>400035</td>\n",
       "    </tr>\n",
       "    <tr>\n",
       "      <th>3</th>\n",
       "      <td>0.451244</td>\n",
       "      <td>0.409138</td>\n",
       "      <td>1.040362</td>\n",
       "      <td>400074</td>\n",
       "    </tr>\n",
       "    <tr>\n",
       "      <th>4</th>\n",
       "      <td>-0.232274</td>\n",
       "      <td>0.409138</td>\n",
       "      <td>-0.151974</td>\n",
       "      <td>400127</td>\n",
       "    </tr>\n",
       "    <tr>\n",
       "      <th>...</th>\n",
       "      <td>...</td>\n",
       "      <td>...</td>\n",
       "      <td>...</td>\n",
       "      <td>...</td>\n",
       "    </tr>\n",
       "    <tr>\n",
       "      <th>23718</th>\n",
       "      <td>-2.544374</td>\n",
       "      <td>-0.315049</td>\n",
       "      <td>1.437807</td>\n",
       "      <td>WD00000357363</td>\n",
       "    </tr>\n",
       "    <tr>\n",
       "      <th>23719</th>\n",
       "      <td>0.869717</td>\n",
       "      <td>0.409138</td>\n",
       "      <td>0.040898</td>\n",
       "      <td>WD00000367473</td>\n",
       "    </tr>\n",
       "    <tr>\n",
       "      <th>23720</th>\n",
       "      <td>1.263457</td>\n",
       "      <td>-0.315049</td>\n",
       "      <td>-1.954747</td>\n",
       "      <td>WRK0000003471</td>\n",
       "    </tr>\n",
       "    <tr>\n",
       "      <th>23721</th>\n",
       "      <td>1.270441</td>\n",
       "      <td>-2.063392</td>\n",
       "      <td>-1.599113</td>\n",
       "      <td>WRK0000011397</td>\n",
       "    </tr>\n",
       "    <tr>\n",
       "      <th>23722</th>\n",
       "      <td>1.100322</td>\n",
       "      <td>-0.315049</td>\n",
       "      <td>-1.510214</td>\n",
       "      <td>WRK0000012523</td>\n",
       "    </tr>\n",
       "  </tbody>\n",
       "</table>\n",
       "<p>23723 rows × 4 columns</p>\n",
       "</div>"
      ],
      "text/plain": [
       "        Recency  Frequency  MonetaryValue             ID\n",
       "0      0.134601  -0.315049       1.404571         100014\n",
       "1      0.429338   1.433294       0.741066         100024\n",
       "2      1.042400  -0.315049       0.201034         400035\n",
       "3      0.451244   0.409138       1.040362         400074\n",
       "4     -0.232274   0.409138      -0.151974         400127\n",
       "...         ...        ...            ...            ...\n",
       "23718 -2.544374  -0.315049       1.437807  WD00000357363\n",
       "23719  0.869717   0.409138       0.040898  WD00000367473\n",
       "23720  1.263457  -0.315049      -1.954747  WRK0000003471\n",
       "23721  1.270441  -2.063392      -1.599113  WRK0000011397\n",
       "23722  1.100322  -0.315049      -1.510214  WRK0000012523\n",
       "\n",
       "[23723 rows x 4 columns]"
      ]
     },
     "execution_count": 22,
     "metadata": {},
     "output_type": "execute_result"
    }
   ],
   "source": [
    "# Before clustering model aplication\n",
    "df_normalized = pd.DataFrame(customers_normalized, columns=['Recency', 'Frequency', 'MonetaryValue'])\n",
    "df_normalized['ID'] = customers.index\n",
    "df_normalized"
   ]
  },
  {
   "cell_type": "code",
   "execution_count": 23,
   "metadata": {},
   "outputs": [
    {
     "data": {
      "text/html": [
       "<div>\n",
       "<style scoped>\n",
       "    .dataframe tbody tr th:only-of-type {\n",
       "        vertical-align: middle;\n",
       "    }\n",
       "\n",
       "    .dataframe tbody tr th {\n",
       "        vertical-align: top;\n",
       "    }\n",
       "\n",
       "    .dataframe thead th {\n",
       "        text-align: right;\n",
       "    }\n",
       "</style>\n",
       "<table border=\"1\" class=\"dataframe\">\n",
       "  <thead>\n",
       "    <tr style=\"text-align: right;\">\n",
       "      <th></th>\n",
       "      <th>Recency</th>\n",
       "      <th>Frequency</th>\n",
       "      <th>MonetaryValue</th>\n",
       "      <th>ID</th>\n",
       "      <th>Cluster</th>\n",
       "    </tr>\n",
       "  </thead>\n",
       "  <tbody>\n",
       "    <tr>\n",
       "      <th>0</th>\n",
       "      <td>0.134601</td>\n",
       "      <td>-0.315049</td>\n",
       "      <td>1.404571</td>\n",
       "      <td>100014</td>\n",
       "      <td>1</td>\n",
       "    </tr>\n",
       "    <tr>\n",
       "      <th>1</th>\n",
       "      <td>0.429338</td>\n",
       "      <td>1.433294</td>\n",
       "      <td>0.741066</td>\n",
       "      <td>100024</td>\n",
       "      <td>1</td>\n",
       "    </tr>\n",
       "    <tr>\n",
       "      <th>2</th>\n",
       "      <td>1.042400</td>\n",
       "      <td>-0.315049</td>\n",
       "      <td>0.201034</td>\n",
       "      <td>400035</td>\n",
       "      <td>1</td>\n",
       "    </tr>\n",
       "    <tr>\n",
       "      <th>3</th>\n",
       "      <td>0.451244</td>\n",
       "      <td>0.409138</td>\n",
       "      <td>1.040362</td>\n",
       "      <td>400074</td>\n",
       "      <td>1</td>\n",
       "    </tr>\n",
       "    <tr>\n",
       "      <th>4</th>\n",
       "      <td>-0.232274</td>\n",
       "      <td>0.409138</td>\n",
       "      <td>-0.151974</td>\n",
       "      <td>400127</td>\n",
       "      <td>1</td>\n",
       "    </tr>\n",
       "    <tr>\n",
       "      <th>...</th>\n",
       "      <td>...</td>\n",
       "      <td>...</td>\n",
       "      <td>...</td>\n",
       "      <td>...</td>\n",
       "      <td>...</td>\n",
       "    </tr>\n",
       "    <tr>\n",
       "      <th>23718</th>\n",
       "      <td>-2.544374</td>\n",
       "      <td>-0.315049</td>\n",
       "      <td>1.437807</td>\n",
       "      <td>WD00000357363</td>\n",
       "      <td>0</td>\n",
       "    </tr>\n",
       "    <tr>\n",
       "      <th>23719</th>\n",
       "      <td>0.869717</td>\n",
       "      <td>0.409138</td>\n",
       "      <td>0.040898</td>\n",
       "      <td>WD00000367473</td>\n",
       "      <td>1</td>\n",
       "    </tr>\n",
       "    <tr>\n",
       "      <th>23720</th>\n",
       "      <td>1.263457</td>\n",
       "      <td>-0.315049</td>\n",
       "      <td>-1.954747</td>\n",
       "      <td>WRK0000003471</td>\n",
       "      <td>3</td>\n",
       "    </tr>\n",
       "    <tr>\n",
       "      <th>23721</th>\n",
       "      <td>1.270441</td>\n",
       "      <td>-2.063392</td>\n",
       "      <td>-1.599113</td>\n",
       "      <td>WRK0000011397</td>\n",
       "      <td>2</td>\n",
       "    </tr>\n",
       "    <tr>\n",
       "      <th>23722</th>\n",
       "      <td>1.100322</td>\n",
       "      <td>-0.315049</td>\n",
       "      <td>-1.510214</td>\n",
       "      <td>WRK0000012523</td>\n",
       "      <td>3</td>\n",
       "    </tr>\n",
       "  </tbody>\n",
       "</table>\n",
       "<p>23723 rows × 5 columns</p>\n",
       "</div>"
      ],
      "text/plain": [
       "        Recency  Frequency  MonetaryValue             ID  Cluster\n",
       "0      0.134601  -0.315049       1.404571         100014        1\n",
       "1      0.429338   1.433294       0.741066         100024        1\n",
       "2      1.042400  -0.315049       0.201034         400035        1\n",
       "3      0.451244   0.409138       1.040362         400074        1\n",
       "4     -0.232274   0.409138      -0.151974         400127        1\n",
       "...         ...        ...            ...            ...      ...\n",
       "23718 -2.544374  -0.315049       1.437807  WD00000357363        0\n",
       "23719  0.869717   0.409138       0.040898  WD00000367473        1\n",
       "23720  1.263457  -0.315049      -1.954747  WRK0000003471        3\n",
       "23721  1.270441  -2.063392      -1.599113  WRK0000011397        2\n",
       "23722  1.100322  -0.315049      -1.510214  WRK0000012523        3\n",
       "\n",
       "[23723 rows x 5 columns]"
      ]
     },
     "execution_count": 23,
     "metadata": {},
     "output_type": "execute_result"
    }
   ],
   "source": [
    "# After clustering model aplication\n",
    "df_normalized['Cluster'] = model.labels_\n",
    "df_normalized"
   ]
  },
  {
   "cell_type": "code",
   "execution_count": 25,
   "metadata": {},
   "outputs": [
    {
     "name": "stderr",
     "output_type": "stream",
     "text": [
      "C:\\SalsaDocumentacao\\Python\\lib\\site-packages\\seaborn\\_decorators.py:36: FutureWarning: Pass the following variables as keyword args: x, y. From version 0.12, the only valid positional argument will be `data`, and passing other arguments without an explicit keyword will result in an error or misinterpretation.\n",
      "  warnings.warn(\n"
     ]
    },
    {
     "data": {
      "image/png": "[encoded data removed]",
      "text/plain": [
       "<Figure size 432x288 with 1 Axes>"
      ]
     },
     "metadata": {
      "needs_background": "light"
     },
     "output_type": "display_data"
    }
   ],
   "source": [
    "# Melt The Data\n",
    "df_nor_melt = pd.melt(df_normalized.reset_index(),\n",
    "                      id_vars=['ID', 'Cluster'],\n",
    "                      value_vars=['Recency','Frequency','MonetaryValue'],\n",
    "                      var_name='Attribute',\n",
    "                      value_name='Value')\n",
    "\n",
    "# Visualize it\n",
    "sns.lineplot('Attribute','Value', hue='Cluster', data=df_nor_melt)\n",
    "plt.show()"
   ]
  },
  {
   "cell_type": "markdown",
   "metadata": {},
   "source": [
    "#### 1.4 - Insights and Conclusions ####"
   ]
  },
  {
   "cell_type": "raw",
   "metadata": {},
   "source": [
    "We infer that cluster 0 is frequent, spend more, and they buy the product recently. Therefore, it could be the cluster of a loyal customer.\n",
    "\n",
    "Then, the cluster 1 is less frequent, less to spend, but they buy the product recently. Therefore, it could be the cluster of new customer.\n",
    "\n",
    "Finally, the cluster 3? is less frequent, less to spend, and they buy the product at the old time. Therefore, it could be the cluster of churned customers"
   ]
  }
 ],
 "metadata": {
  "kernelspec": {
   "display_name": "Python 3",
   "language": "python",
   "name": "python3"
  },
  "language_info": {
   "codemirror_mode": {
    "name": "ipython",
    "version": 3
   },
   "file_extension": ".py",
   "mimetype": "text/x-python",
   "name": "python",
   "nbconvert_exporter": "python",
   "pygments_lexer": "ipython3",
   "version": "3.7.6"
  }
 },
 "nbformat": 4,
 "nbformat_minor": 4
}
